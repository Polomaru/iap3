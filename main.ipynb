{
 "cells": [
  {
   "cell_type": "code",
   "execution_count": 2,
   "metadata": {},
   "outputs": [],
   "source": [
    "import pandas as pd\n",
    "import librosa\n",
    "import os\n",
    "import numpy as np\n",
    "\n",
    "def extract_mfcc(file_path):\n",
    "    y, sr = librosa.load(file_path)\n",
    "    mfcc = librosa.feature.mfcc(y=y, sr=sr, n_mfcc=128)\n",
    "    mfcc_mean = np.mean(mfcc, axis=1)\n",
    "    return mfcc_mean\n",
    "\n",
    "def load_data(data_folder):\n",
    "    song_folder = os.path.join(data_folder, \"Song\")\n",
    "    speech_folder = os.path.join(data_folder, \"Speech\")\n",
    "\n",
    "    labels = []\n",
    "    data = []\n",
    "\n",
    "    for dataset_folder in [song_folder, speech_folder]:\n",
    "        for actor in os.listdir(dataset_folder):\n",
    "            actor_folder = os.path.join(dataset_folder, actor)\n",
    "            for file in os.listdir(actor_folder):\n",
    "                file_path = os.path.join(actor_folder, file)\n",
    "                try:\n",
    "                    mfcc_mean = extract_mfcc(file_path)\n",
    "                    labels.append(actor_folder[-2:])\n",
    "                    data.append(mfcc_mean)\n",
    "                except Exception as e:\n",
    "                    print(f\"Error al procesar el archivo {file_path}: {str(e)}\")\n",
    "\n",
    "    return data, labels\n",
    "\n",
    "data, labels = load_data(\"sound_dataset\")\n",
    "\n",
    "df = pd.DataFrame(labels, columns=['actor'])\n",
    "data_np = np.array(data)\n",
    "df_data = pd.DataFrame(data_np)\n",
    "df = pd.concat([df, df_data], axis=1)\n",
    "\n",
    "train = df.sample(frac=0.7, random_state=0)\n",
    "test = df.drop(train.index)\n",
    "\n",
    "train.to_csv('train.csv', index=False)\n",
    "test.to_csv('test.csv', index=False)\n"
   ]
  }
 ],
 "metadata": {
  "kernelspec": {
   "display_name": "Python 3",
   "language": "python",
   "name": "python3"
  },
  "language_info": {
   "codemirror_mode": {
    "name": "ipython",
    "version": 3
   },
   "file_extension": ".py",
   "mimetype": "text/x-python",
   "name": "python",
   "nbconvert_exporter": "python",
   "pygments_lexer": "ipython3",
   "version": "3.11.2"
  },
  "orig_nbformat": 4
 },
 "nbformat": 4,
 "nbformat_minor": 2
}
